{
 "cells": [
  {
   "cell_type": "markdown",
   "metadata": {},
   "source": [
    "If we put all things from **dhbs.ipynb** together, we create a dataset approximation and metadata management system that will support the following operations:\n",
    "\n",
    "1. **Ingesting**: During this phase, we read datasets one by one and convert them into a (b, z) based data structure. Let's call it HllSet (because it resembles the data structure that the HyperLogLog algorithm uses for dataset approximation).\n",
    "\n",
    "2. **Basic set operations**: These include union, intersection, complement, and difference.\n",
    "\n",
    "3. **Search**: This operation involves searching for data based on the similarity of dataset HllSet presentations."
   ]
  },
  {
   "cell_type": "markdown",
   "metadata": {},
   "source": [
    "By combining all the concepts we've discussed, we can create a powerful dataset approximation and metadata management system called HllSet (inspired by the HyperLogLog algorithm). This system will support the following operations:\n",
    "\n",
    "### HllSet System Overview\n",
    "1. Ingesting:\n",
    "    - Input: Raw datasets (e.g., documents, tokenized data).\n",
    "\n",
    "    - Process:\n",
    "\n",
    "        - Tokenize the dataset and convert tokens into 64-bit hashes.\n",
    "\n",
    "        - Compress each hash into (b, z) pairs, where:\n",
    "\n",
    "            - b is the bucket number (first p bits of the hash).\n",
    "\n",
    "            - z is the number of trailing zeros in the hash.\n",
    "\n",
    "       - Store the (b, z) pairs along with metadata (e.g., token frequencies, document references).\n",
    "\n",
    "    Output: A uniform HllSet representation of the dataset.\n",
    "\n",
    "2. Basic Set Operations:\n",
    "    - Union: Combine two HllSets into one, preserving unique (b, z) pairs.\n",
    "\n",
    "    - Intersection: Find common (b, z) pairs between two HllSets.\n",
    "\n",
    "    - Complement: Find (b, z) pairs in one HllSet that are not in another.\n",
    "\n",
    "    - Difference: Find (b, z) pairs unique to one HllSet compared to another.\n",
    "\n",
    "3. Search Based on Similarity:\n",
    "    - Compare HllSets to find datasets with similar (b, z) structures.\n",
    "\n",
    "    - Use similarity metrics (e.g., Jaccard similarity, cosine similarity) to rank datasets by similarity.\n",
    "\n",
    "### Detailed Design of HllSet System\n",
    "\n",
    "#### **Data Structure:**\n",
    "Each HllSet is represented as a collection of buckets, where each bucket contains:\n",
    "\n",
    "- A list of trailing zeros (z) for tokens in that bucket.\n",
    "    \n",
    "- Optional metadata (e.g., token frequencies, document references)."
   ]
  },
  {
   "cell_type": "code",
   "execution_count": null,
   "metadata": {},
   "outputs": [],
   "source": [
    "HllSet = {\n",
    "    b1: {\n",
    "        \"zeros\": [z1, z2, ...],  # List of trailing zeros\n",
    "        \"frequencies\": [f1, f2, ...],  # Optional: Token frequencies\n",
    "        \"documents\": [doc_id1, doc_id2, ...]  # Optional: Document references\n",
    "    },\n",
    "    b2: {\n",
    "        \"zeros\": [z3, z4, ...],\n",
    "        \"frequencies\": [f3, f4, ...],\n",
    "        \"documents\": [doc_id3, doc_id4, ...]\n",
    "    },\n",
    "    # ...\n",
    "}"
   ]
  },
  {
   "cell_type": "markdown",
   "metadata": {},
   "source": [
    "#### **Operations Supported by HllSet System**\n",
    "1. **Ingesting:**\n",
    "    - Convert raw datasets into HllSet format.\n",
    "    - Example"
   ]
  },
  {
   "cell_type": "code",
   "execution_count": null,
   "metadata": {},
   "outputs": [],
   "source": [
    "def ingest_dataset(documents, p):\n",
    "    hllset = {}\n",
    "    for doc_id, document in enumerate(documents):\n",
    "        tokens = tokenize(document)\n",
    "        for token in tokens:\n",
    "            hash_val = hash_function(token)\n",
    "            b = (hash_val >> (64 - p)) & ((1 << p) - 1)  # First p bits\n",
    "            z = count_trailing_zeros(hash_val)  # Number of trailing zeros\n",
    "            \n",
    "            if b not in hllset:\n",
    "                hllset[b] = {\"zeros\": [], \"frequencies\": [], \"documents\": []}\n",
    "            \n",
    "            hllset[b][\"zeros\"].append(z)\n",
    "            hllset[b][\"frequencies\"].append(1)  # Increment frequency\n",
    "            hllset[b][\"documents\"].append(doc_id)\n",
    "    \n",
    "    return hllset"
   ]
  },
  {
   "cell_type": "markdown",
   "metadata": {},
   "source": [
    "2. **Basic Set Operations:**\n",
    "\n",
    "**Union:**\n",
    "\n",
    "  - Combine two HllSets into one.\n",
    "\n",
    "  - Example:"
   ]
  },
  {
   "cell_type": "code",
   "execution_count": null,
   "metadata": {},
   "outputs": [],
   "source": [
    "def union(hllset1, hllset2):\n",
    "    result = {}\n",
    "    for b in set(hllset1.keys()).union(hllset2.keys()):\n",
    "        zeros1 = hllset1.get(b, {\"zeros\": []})[\"zeros\"]\n",
    "        zeros2 = hllset2.get(b, {\"zeros\": []})[\"zeros\"]\n",
    "        result[b] = {\"zeros\": list(set(zeros1 + zeros2))}\n",
    "    return result"
   ]
  },
  {
   "cell_type": "markdown",
   "metadata": {},
   "source": [
    "**Intersection:**\n",
    "\n",
    "  - Find common (b, z) pairs between two HllSets.\n",
    "\n",
    "  - Example:"
   ]
  },
  {
   "cell_type": "code",
   "execution_count": null,
   "metadata": {},
   "outputs": [],
   "source": [
    "def intersection(hllset1, hllset2):\n",
    "    result = {}\n",
    "    for b in set(hllset1.keys()).intersection(hllset2.keys()):\n",
    "        zeros1 = hllset1[b][\"zeros\"]\n",
    "        zeros2 = hllset2[b][\"zeros\"]\n",
    "        common_zeros = list(set(zeros1).intersection(zeros2))\n",
    "        if common_zeros:\n",
    "            result[b] = {\"zeros\": common_zeros}\n",
    "    return result"
   ]
  },
  {
   "cell_type": "markdown",
   "metadata": {},
   "source": [
    "**Complement:**\n",
    "\n",
    "  - Find (b, z) pairs in one HllSet that are not in another.\n",
    "\n",
    "  - Example:"
   ]
  },
  {
   "cell_type": "code",
   "execution_count": null,
   "metadata": {},
   "outputs": [],
   "source": [
    "def complement(hllset1, hllset2):\n",
    "    result = {}\n",
    "    for b in hllset1:\n",
    "        if b not in hllset2:\n",
    "            result[b] = hllset1[b]\n",
    "        else:\n",
    "            zeros1 = hllset1[b][\"zeros\"]\n",
    "            zeros2 = hllset2[b][\"zeros\"]\n",
    "            unique_zeros = list(set(zeros1) - set(zeros2))\n",
    "            if unique_zeros:\n",
    "                result[b] = {\"zeros\": unique_zeros}\n",
    "    return result"
   ]
  },
  {
   "cell_type": "markdown",
   "metadata": {},
   "source": [
    "**Difference:**\n",
    "\n",
    "  - Find (b, z) pairs unique to one HllSet compared to another.\n",
    "\n",
    "  - Example:"
   ]
  },
  {
   "cell_type": "code",
   "execution_count": null,
   "metadata": {},
   "outputs": [],
   "source": [
    "def difference(hllset1, hllset2):\n",
    "    return complement(hllset1, hllset2)"
   ]
  },
  {
   "cell_type": "markdown",
   "metadata": {},
   "source": [
    "3. **Search Based on Similarity:**\n",
    "\n",
    "  - Compare HllSets to find datasets with similar (b, z) structures.\n",
    "\n",
    "  - Use similarity metrics like Jaccard similarity:"
   ]
  },
  {
   "cell_type": "code",
   "execution_count": null,
   "metadata": {},
   "outputs": [],
   "source": [
    "def jaccard_similarity(hllset1, hllset2):\n",
    "    intersection_size = len(intersection(hllset1, hllset2))\n",
    "    union_size = len(union(hllset1, hllset2))\n",
    "    return intersection_size / union_size if union_size > 0 else 0"
   ]
  },
  {
   "cell_type": "markdown",
   "metadata": {},
   "source": [
    "  - Example usage:"
   ]
  },
  {
   "cell_type": "code",
   "execution_count": null,
   "metadata": {},
   "outputs": [],
   "source": [
    "similarity = jaccard_similarity(hllset1, hllset2)\n",
    "print(f\"Similarity: {similarity}\")"
   ]
  },
  {
   "cell_type": "markdown",
   "metadata": {},
   "source": [
    "#### Parallel Processing for Scalability\n",
    "\n",
    "Since buckets are mutually exclusive, all operations can be parallelized:\n",
    "\n",
    "  - Use CPU parallelism (e.g., concurrent.futures) for basic operations.\n",
    "\n",
    "  - Use GPU parallelism (e.g., CUDA) for large-scale datasets or computationally intensive tasks.\n",
    "\n",
    "#### Example Use Case: Dataset Search\n",
    "1. Ingest Datasets:\n",
    "\n",
    "  - Convert multiple datasets into HllSet format.\n",
    "\n",
    "2. Search for Similar Datasets:\n",
    "\n",
    "  - Compare the HllSet of a query dataset against all ingested datasets.\n",
    "\n",
    "  - Rank datasets by similarity score.\n",
    "\n",
    "#### Benefits of HllSet:\n",
    "1. Efficient Storage:\n",
    "\n",
    "  - Compact representation using (b, z) pairs.\n",
    "\n",
    "2. Scalability:\n",
    "\n",
    "  - Parallel processing for large-scale datasets.\n",
    "\n",
    "3. Flexibility:\n",
    "\n",
    "  - Supports basic set operations and similarity search.\n",
    "\n",
    "4. Uniformity:\n",
    "\n",
    "  - All datasets are represented in a consistent format, enabling easy comparison and integration.\n",
    "\n",
    "### Conclusion\n",
    "\n",
    "The HllSet system provides a robust framework for dataset approximation and metadata management. By leveraging (b, z) pairs, parallel processing, and efficient set operations, it enables scalable and flexible handling of large datasets. This system is particularly well-suited for applications like document search, dataset comparison, and frequency analysis."
   ]
  }
 ],
 "metadata": {
  "kernelspec": {
   "display_name": ".venv",
   "language": "python",
   "name": "python3"
  },
  "language_info": {
   "name": "python",
   "version": "3.12.8"
  }
 },
 "nbformat": 4,
 "nbformat_minor": 2
}
