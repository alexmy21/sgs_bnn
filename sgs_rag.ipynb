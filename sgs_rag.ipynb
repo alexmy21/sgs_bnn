{
 "cells": [
  {
   "cell_type": "code",
   "execution_count": null,
   "metadata": {},
   "outputs": [],
   "source": [
    "from datasets import load_dataset\n",
    "# Load a sample dataset (e.g., Wikipedia passages)\n",
    "dataset = load_dataset(\"wiki_snippets\", \"wiki40b_en_100_0\")\n",
    "passages = dataset[\"train\"][\"passage_text\"]"
   ]
  },
  {
   "cell_type": "code",
   "execution_count": null,
   "metadata": {},
   "outputs": [],
   "source": [
    "from sentence_transformers import SentenceTransformer\n",
    "# Load a pre-trained sentence transformer model\n",
    "encoder = SentenceTransformer(\"all-MiniLM-L6-v2\")\n",
    "# Encode all passages into embeddings\n",
    "passage_embeddings = encoder.encode(passages)"
   ]
  },
  {
   "cell_type": "code",
   "execution_count": null,
   "metadata": {},
   "outputs": [],
   "source": [
    "import hnswlib\n",
    "import numpy as np\n",
    "\n",
    "# Assuming passage_embeddings is a numpy array of shape (num_passages, embedding_dim)\n",
    "num_passages, embedding_dim = passage_embeddings.shape\n",
    "\n",
    "# Create an HNSW index\n",
    "index = hnswlib.Index(space=\"cosine\", dim=embedding_dim)  # Use \"cosine\" for cosine similarity\n",
    "\n",
    "# Initialize the index\n",
    "index.init_index(max_elements=num_passages, ef_construction=200, M=16)\n",
    "\n",
    "# Add embeddings to the index\n",
    "index.add_items(passage_embeddings)\n",
    "\n",
    "# Set the number of nearest neighbors to retrieve\n",
    "index.set_ef(50)  # ef should be >= k (number of nearest neighbors to retrieve)"
   ]
  }
 ],
 "metadata": {
  "kernelspec": {
   "display_name": ".venv",
   "language": "python",
   "name": "python3"
  },
  "language_info": {
   "codemirror_mode": {
    "name": "ipython",
    "version": 3
   },
   "file_extension": ".py",
   "mimetype": "text/x-python",
   "name": "python",
   "nbconvert_exporter": "python",
   "pygments_lexer": "ipython3",
   "version": "3.12.8"
  }
 },
 "nbformat": 4,
 "nbformat_minor": 2
}
